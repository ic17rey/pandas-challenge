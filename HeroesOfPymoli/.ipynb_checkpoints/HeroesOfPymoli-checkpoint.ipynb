{
 "cells": [
  {
   "cell_type": "markdown",
   "metadata": {},
   "source": [
    "# **Heroes Of Pymoli**"
   ]
  },
  {
   "cell_type": "markdown",
   "metadata": {},
   "source": [
    "Analyze data for the game Heroes of Pymoli by first creating a purchase data frame "
   ]
  },
  {
   "cell_type": "code",
   "execution_count": null,
   "metadata": {},
   "outputs": [],
   "source": [
    "# Dependencies and Setup\n",
    "import pandas as pd\n",
    "import os"
   ]
  },
  {
   "cell_type": "code",
   "execution_count": null,
   "metadata": {},
   "outputs": [],
   "source": [
    "# Identify a variable for the path needed to retrieve the data\n",
    "pymoli_path = os.path.join('Resources', 'purchase_data.csv')\n",
    "\n",
    "# Read purchase_data.csv file and store into Pandas DataFrame\n",
    "gaming_df = pd.read_csv(pymoli_path)\n",
    "\n",
    "# View the values in first 5 rows of data frame\n",
    "gaming_df.head()"
   ]
  },
  {
   "cell_type": "code",
   "execution_count": null,
   "metadata": {},
   "outputs": [],
   "source": [
    "# Identify all column headers in the data\n",
    "gaming_df.columns"
   ]
  },
  {
   "cell_type": "markdown",
   "metadata": {},
   "source": [
    "## Player Count"
   ]
  },
  {
   "cell_type": "markdown",
   "metadata": {},
   "source": [
    "Using the data frame created from purchase_data.csv, identify the number of players"
   ]
  },
  {
   "cell_type": "code",
   "execution_count": null,
   "metadata": {},
   "outputs": [],
   "source": [
    "# Calculate number of players using unique values for screen name column\n",
    "players_count = len(gaming_df['SN'].unique())\n",
    "\n",
    "# Load the players_count in a data frame to display\n",
    "players_count_df = pd.DataFrame({\n",
    "    'Total Players':[players_count]\n",
    "})\n",
    "\n",
    "# View the data frame\n",
    "players_count_df"
   ]
  },
  {
   "cell_type": "markdown",
   "metadata": {},
   "source": [
    "## Purchasing Analysis (Total)"
   ]
  },
  {
   "cell_type": "markdown",
   "metadata": {},
   "source": [
    "Perform basic calculations on purchasing data to be displayed in a summary data frame"
   ]
  },
  {
   "cell_type": "code",
   "execution_count": null,
   "metadata": {},
   "outputs": [],
   "source": [
    "# Apply formatting for the $ values\n",
    "pd.options.display.float_format = '${:,.2f}'.format"
   ]
  },
  {
   "cell_type": "code",
   "execution_count": null,
   "metadata": {},
   "outputs": [],
   "source": [
    "# Create variables and perform calculations:\n",
    "# Number of Unique Items, Average Price, Number of Purchases, Total Revenue\n",
    "unique_items = len(gaming_df['Item ID'].unique())\n",
    "average_price = gaming_df['Price'].mean()\n",
    "num_purchases = len(gaming_df['Purchase ID'].unique())\n",
    "total_revenue = gaming_df['Price'].sum()"
   ]
  },
  {
   "cell_type": "code",
   "execution_count": null,
   "metadata": {},
   "outputs": [],
   "source": [
    "# Create a summary_df to hold the results of above calculations\n",
    "summary_df = pd.DataFrame({\n",
    "    'Number of Unique Items':[unique_items],\n",
    "    'Average Price':[average_price],\n",
    "    'Number of Purchases':[num_purchases],       \n",
    "    'Total Revenue':[total_revenue]\n",
    "})\n",
    "\n",
    "summary_df"
   ]
  },
  {
   "cell_type": "markdown",
   "metadata": {},
   "source": [
    "## Gender Demographics"
   ]
  },
  {
   "cell_type": "markdown",
   "metadata": {},
   "source": [
    "Identify the count for the three different gender classifications in the data and display the count and percentage of total in a data frame"
   ]
  },
  {
   "cell_type": "code",
   "execution_count": null,
   "metadata": {},
   "outputs": [],
   "source": [
    "# Identify the players who made purchases and include demographics\n",
    "players_df = gaming_df[['SN', 'Gender', 'Age']]\n",
    "\n",
    "# Using gender_df remove duplicates (using the values of 'SN' column)\n",
    "players_df = players_df.drop_duplicates(subset=['SN'])\n",
    "\n",
    "players_df"
   ]
  },
  {
   "cell_type": "code",
   "execution_count": null,
   "metadata": {},
   "outputs": [],
   "source": [
    "# Count the results for each gender\n",
    "count_gender = players_df['Gender'].value_counts()\n",
    "\n",
    "# Create a data frame to display count of males, females and others/non-disclosed\n",
    "count_gender_df = players_df['Gender'].value_counts().to_frame()\n",
    "count_gender_df = count_gender_df.rename(columns={'Gender':'Total Count'})"
   ]
  },
  {
   "cell_type": "code",
   "execution_count": null,
   "metadata": {},
   "outputs": [],
   "source": [
    "# Apply a format for any float for the section to come\n",
    "pd.options.display.float_format = '{:,.2f}%'.format"
   ]
  },
  {
   "cell_type": "code",
   "execution_count": null,
   "metadata": {},
   "outputs": [],
   "source": [
    "# Calculate and format percentages to add to the data frame\n",
    "count = len(players_df['SN'])\n",
    "\n",
    "for_percentage_gender = count_gender / count * 100\n",
    "count_gender_df['Percentage of Players'] = for_percentage_gender\n",
    "\n",
    "count_gender_df"
   ]
  },
  {
   "cell_type": "markdown",
   "metadata": {},
   "source": [
    "\n",
    "## Purchasing Analysis (Gender)"
   ]
  },
  {
   "cell_type": "markdown",
   "metadata": {},
   "source": [
    "Create a data frame to display the purchase counts, average purchase price, purchase total per person and average total purchase per person, by gender "
   ]
  },
  {
   "cell_type": "code",
   "execution_count": null,
   "metadata": {},
   "outputs": [],
   "source": [
    "# Create a data frame for all purchases split out by gender\n",
    "gaming_by_gender_df = gaming_df.groupby(['Gender'])\n",
    "\n",
    "# To visualize use a data function count\n",
    "gaming_by_gender_df.count()"
   ]
  },
  {
   "cell_type": "code",
   "execution_count": null,
   "metadata": {},
   "outputs": [],
   "source": [
    "# Create data frame to display the gender analysis beginning with the gender distribution for purchase count\n",
    "count_gender_all_df = gaming_df['Gender'].value_counts().to_frame()\n",
    "count_gender_all_df = count_gender_all_df.rename(columns={'Gender':'Purchase Count'})\n",
    "\n",
    "count_gender_all_df"
   ]
  },
  {
   "cell_type": "code",
   "execution_count": null,
   "metadata": {},
   "outputs": [],
   "source": [
    "# Create a variable to hold the purchase count value to use in calculations\n",
    "count_by_gender = count_gender_all_df['Purchase Count'] \n",
    "\n",
    "# Calculate average purchase price and total purchase using gaming_by_gender_df \n",
    "average_purchase_price_by_gender = gaming_by_gender_df['Price'].mean()\n",
    "total_purchase_by_gender = gaming_by_gender_df['Price'].sum()\n",
    "\n",
    "# Calculate average total purchase per person by again considering only the number of unique individuals \n",
    "average_purchase_per_person = total_purchase_by_gender / count_gender"
   ]
  },
  {
   "cell_type": "code",
   "execution_count": null,
   "metadata": {},
   "outputs": [],
   "source": [
    "# Apply formatting for the values to be displayed in the data frame\n",
    "pd.options.display.float_format = '${:,.2f}'.format"
   ]
  },
  {
   "cell_type": "code",
   "execution_count": null,
   "metadata": {},
   "outputs": [],
   "source": [
    "# Complete build of this data frame to input the desired calcluations as additional columns\n",
    "count_gender_all_df['Average Purchase Price'] = average_purchase_price_by_gender\n",
    "count_gender_all_df['Total Purchase Value'] = total_purchase_by_gender\n",
    "count_gender_all_df['Average Total Purchase per Person'] = average_purchase_per_person\n",
    "\n",
    "# Note: Alternate way to format with .map, like\n",
    "# count_gender_all_df['Average Purchase Price'].map('${:,.2}'.format)\n",
    "\n",
    "# Display the data frame\n",
    "count_gender_all_df"
   ]
  },
  {
   "cell_type": "markdown",
   "metadata": {},
   "source": [
    "## Age Demographics"
   ]
  },
  {
   "cell_type": "markdown",
   "metadata": {},
   "source": [
    "Display an Age Demographics Table by using bins to calculate count and percentages for each age group"
   ]
  },
  {
   "cell_type": "code",
   "execution_count": null,
   "metadata": {},
   "outputs": [],
   "source": [
    "# Update the formatting for percentages in the following blocks of code\n",
    "pd.options.display.float_format = '{:.2f}%'.format"
   ]
  },
  {
   "cell_type": "code",
   "execution_count": null,
   "metadata": {},
   "outputs": [],
   "source": [
    "# Create age bins for the players to span from 0 to > max age \n",
    "# max_age = players_df['Age'].max(), result is 45\n",
    "players = gaming_df[['SN', 'Age', 'Gender']].drop_duplicates()\n",
    "\n",
    "bins = [0, 9, 14, 19, 24, 29, 34, 39, 99]\n",
    "group_names = ['<10', '10-14', '15-19', '20-24', '25-29', '30-34', '35-39', '40+']\n",
    "\n",
    "players['Age Range'] = pd.cut(players_df['Age'], bins, labels=group_names)\n",
    "\n",
    "players"
   ]
  },
  {
   "cell_type": "code",
   "execution_count": null,
   "metadata": {},
   "outputs": [],
   "source": [
    "# With the bins created, group the players by age to evaluate count and percentage for each bin\n",
    "age_groups = players.groupby('Age Range').count().Age\n",
    "\n",
    "# Create a variable to hold the percentage calculated for each age group\n",
    "# count is a variable already holding the total number of unique players\n",
    "percentage_of_players = age_groups / count * 100\n",
    "\n",
    "# Create a data frame to display the counts and percentages for the age ranges\n",
    "age_groups_df = pd.DataFrame({\n",
    "    'Total Count':age_groups, \n",
    "    'Percentage of Players':percentage_of_players\n",
    "})\n",
    "\n",
    "# View the age demographics table that includes counts and percentages for Age bins\n",
    "age_groups_df"
   ]
  },
  {
   "cell_type": "markdown",
   "metadata": {},
   "source": [
    "## Purchasing Analysis (Age)"
   ]
  },
  {
   "cell_type": "markdown",
   "metadata": {},
   "source": [
    "Using bins for each age group, create and display a summary data frame that includes calculations for the purchase count, the average purchase price, the total purchase value and the average purchase total per person "
   ]
  },
  {
   "cell_type": "code",
   "execution_count": null,
   "metadata": {},
   "outputs": [],
   "source": [
    "# Update the formatting for currency in this section\n",
    "pd.options.display.float_format = '${:,.2f}'.format\n",
    "\n",
    "# Data frame starting point, gaming_df\n",
    "gaming_df"
   ]
  },
  {
   "cell_type": "code",
   "execution_count": null,
   "metadata": {},
   "outputs": [],
   "source": [
    "# For all purchases create age bins for the players to span from 0 to > max age \n",
    "# max_age = players_df['Age'].max(), result is 45\n",
    "bins_purchases = [0, 9, 14, 19, 24, 29, 34, 39, 99]\n",
    "group_names_purchases = ['<10', '10-14', '15-19', '20-24', '25-29', '30-34', '35-39', '40+']\n",
    "\n",
    "# Add a column to gaming_df that includes the Age Range\n",
    "gaming_df['Age Range'] = pd.cut(gaming_df['Age'], bins, labels=group_names)\n",
    "\n",
    "# Display the data frame to see the additional column Age Range\n",
    "gaming_df.head()"
   ]
  },
  {
   "cell_type": "code",
   "execution_count": null,
   "metadata": {},
   "outputs": [],
   "source": [
    "# Group the players by age to evaluate count and percentage for each bin\n",
    "age_groups_purchases = gaming_df.groupby('Age Range').Price\n",
    "\n",
    "# Create a data frame including the info from age_groups_purchases\n",
    "age_groups_purchases_df = pd.DataFrame({\n",
    "    'Purchase Count': age_groups_purchases.count(),\n",
    "    'Average Purchase Price': age_groups_purchases.mean(),\n",
    "    'Total Purchase Value': age_groups_purchases.sum(),  \n",
    "})\n",
    "\n",
    "# Display the data frame\n",
    "age_groups_purchases_df "
   ]
  },
  {
   "cell_type": "code",
   "execution_count": null,
   "metadata": {},
   "outputs": [],
   "source": [
    "# Calculate the average purchase per person and add it as final column of the data frame\n",
    "average_purchase_per_person = age_groups_purchases.sum() / age_groups\n",
    "age_groups_purchases_df['Average Total Purchase per Person'] = average_purchase_per_person\n",
    "\n",
    "# Display the data frame including the final column\n",
    "age_groups_purchases_df"
   ]
  },
  {
   "cell_type": "markdown",
   "metadata": {},
   "source": [
    "## Top Spenders"
   ]
  },
  {
   "cell_type": "markdown",
   "metadata": {},
   "source": [
    "Using the data frame for all purchases, gaming_df, as the starting point, group by screen name to display a summary data frame that includes each player's purchase count, average purchase price, and total dollar amount of purchases (sorting in descending order by total purchase value)"
   ]
  },
  {
   "cell_type": "code",
   "execution_count": null,
   "metadata": {},
   "outputs": [],
   "source": [
    "# Group spending by player\n",
    "summarized_by_SN = gaming_df.groupby('SN').Price\n",
    "\n",
    "# Create a data frame to hold spending by player and purchase data\n",
    "summarized_by_SN_df = pd.DataFrame({\n",
    "    'Purchase Count': summarized_by_SN.count(),\n",
    "    'Average Purchase Price': summarized_by_SN.mean(),\n",
    "    'Total Purchase Value': summarized_by_SN.sum(),\n",
    "})\n",
    "\n",
    "# Sort by Total Purchase Value, descending (ascending is the default order)\n",
    "sorted_by_purchases_df = summarized_by_SN_df.sort_values('Total Purchase Value', ascending=False)\n",
    "\n",
    "# Format from previous df is carrying forward as needed\n",
    "# Display the first five values for the data frame\n",
    "sorted_by_purchases_df.head()"
   ]
  },
  {
   "cell_type": "markdown",
   "metadata": {},
   "source": [
    "## Most Popular Items"
   ]
  },
  {
   "cell_type": "markdown",
   "metadata": {},
   "source": [
    "Display the item IDs, item names, and item prices in a data frame; calculate the purchase count, the average item price and total purchase value for each item (sort by purchase count in descending order to identify the most popular items) to also display in a data frame"
   ]
  },
  {
   "cell_type": "code",
   "execution_count": null,
   "metadata": {},
   "outputs": [],
   "source": [
    "# Create a data frame from gaming_df that includes Item ID, Item Name and Item Price \n",
    "gaming_simple_df = gaming_df[['Item ID', 'Item Name', 'Price']]\n",
    "\n",
    "# Format from previous df is carrying forward as needed\n",
    "# View the first and last rows of the data frame\n",
    "gaming_simple_df"
   ]
  },
  {
   "cell_type": "code",
   "execution_count": null,
   "metadata": {},
   "outputs": [],
   "source": [
    "# Create a data frame after grouping by Item Id and Item Name\n",
    "grouped_gaming_simple = gaming_simple_df.groupby(['Item ID', 'Item Name']).Price\n",
    "\n",
    "grouped_gaming_simple_df = pd.DataFrame({\n",
    "    'Purchase Count':grouped_gaming_simple.count(),\n",
    "    'Item Price':grouped_gaming_simple.mean(),\n",
    "    'Total Purchase Value':grouped_gaming_simple.sum()\n",
    "})\n",
    "\n",
    "# Display first and last rows of the data frame\n",
    "grouped_gaming_simple_df"
   ]
  },
  {
   "cell_type": "code",
   "execution_count": null,
   "metadata": {},
   "outputs": [],
   "source": [
    "# Sort the data frame by Purchase Count, highest to lowest\n",
    "sorted_by_count_df = grouped_gaming_simple_df.sort_values('Purchase Count', ascending=False)\n",
    "\n",
    "# Display the first five rows (those items purchased most often)\n",
    "sorted_by_count_df.head()"
   ]
  },
  {
   "cell_type": "markdown",
   "metadata": {},
   "source": [
    "## Most Profitable Items"
   ]
  },
  {
   "cell_type": "markdown",
   "metadata": {},
   "source": [
    "To identify the biggest money-makers, sort the table above by total purchase value in descending order and display the preview of the data frame"
   ]
  },
  {
   "cell_type": "code",
   "execution_count": null,
   "metadata": {
    "scrolled": true
   },
   "outputs": [],
   "source": [
    "# Sort the data frame about by total purchase value, to see what items are most profitable\n",
    "sorted_by_count_df = grouped_gaming_simple_df.sort_values('Total Purchase Value', ascending=False)\n",
    "\n",
    "# Display the five items that made the most money\n",
    "sorted_by_count_df.head()"
   ]
  },
  {
   "cell_type": "markdown",
   "metadata": {},
   "source": [
    "# Observations about gaming data for Heroes of Pymoli"
   ]
  },
  {
   "cell_type": "markdown",
   "metadata": {},
   "source": [
    "##### Following analysis of purchase data for Heroes of Pymoli these observations can be made:\n",
    "    \n",
    "    - Nearly 85% of the players are male.\n",
    "    - About 85% of all players are 15-34 years of age.\n",
    "    - Players age 20-24 make up about 45% of all players.\n",
    "    - Total purchases by players age 20-24 total nearly as much as purchases for all other age groups combined.\n",
    "    - The items Final Critic, Oathbreaker, and Fiery Glass Crusader are popular and profitable items.    "
   ]
  }
 ],
 "metadata": {
  "anaconda-cloud": {},
  "kernel_info": {
   "name": "python3"
  },
  "kernelspec": {
   "display_name": "Python 3",
   "language": "python",
   "name": "python3"
  },
  "language_info": {
   "codemirror_mode": {
    "name": "ipython",
    "version": 3
   },
   "file_extension": ".py",
   "mimetype": "text/x-python",
   "name": "python",
   "nbconvert_exporter": "python",
   "pygments_lexer": "ipython3",
   "version": "3.8.5"
  },
  "latex_envs": {
   "LaTeX_envs_menu_present": true,
   "autoclose": false,
   "autocomplete": true,
   "bibliofile": "biblio.bib",
   "cite_by": "apalike",
   "current_citInitial": 1,
   "eqLabelWithNumbers": true,
   "eqNumInitial": 1,
   "hotkeys": {
    "equation": "Ctrl-E",
    "itemize": "Ctrl-I"
   },
   "labels_anchors": false,
   "latex_user_defs": false,
   "report_style_numbering": false,
   "user_envs_cfg": false
  },
  "nteract": {
   "version": "0.2.0"
  }
 },
 "nbformat": 4,
 "nbformat_minor": 2
}
